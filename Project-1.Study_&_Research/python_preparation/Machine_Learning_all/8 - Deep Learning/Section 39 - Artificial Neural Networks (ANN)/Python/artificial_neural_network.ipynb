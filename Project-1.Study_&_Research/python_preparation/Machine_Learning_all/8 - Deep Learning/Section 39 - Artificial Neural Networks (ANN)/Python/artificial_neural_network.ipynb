{
 "cells": [
  {
   "cell_type": "markdown",
   "metadata": {
    "colab_type": "text",
    "id": "lP6JLo1tGNBg"
   },
   "source": [
    "# Artificial Neural Network"
   ]
  },
  {
   "cell_type": "markdown",
   "metadata": {
    "colab_type": "text",
    "id": "gWZyYmS_UE_L"
   },
   "source": [
    "### Importing the libraries"
   ]
  },
  {
   "cell_type": "code",
   "execution_count": 1,
   "metadata": {
    "colab": {},
    "colab_type": "code",
    "id": "MxkJoQBkUIHC"
   },
   "outputs": [],
   "source": [
    "import numpy as np\n",
    "import pandas as pd\n",
    "import tensorflow as tf"
   ]
  },
  {
   "cell_type": "code",
   "execution_count": 2,
   "metadata": {
    "colab": {
     "base_uri": "https://localhost:8080/",
     "height": 34
    },
    "colab_type": "code",
    "id": "ZaTwK7ojXr2F",
    "outputId": "0b27a96d-d11a-43e8-ab4b-87c1f01896fe"
   },
   "outputs": [
    {
     "data": {
      "text/plain": [
       "'2.2.0'"
      ]
     },
     "execution_count": 2,
     "metadata": {},
     "output_type": "execute_result"
    }
   ],
   "source": [
    "tf.__version__"
   ]
  },
  {
   "cell_type": "markdown",
   "metadata": {
    "colab_type": "text",
    "id": "1E0Q3aoKUCRX"
   },
   "source": [
    "## Part 1 - Data Preprocessing"
   ]
  },
  {
   "cell_type": "markdown",
   "metadata": {
    "colab_type": "text",
    "id": "cKWAkFVGUU0Z"
   },
   "source": [
    "### Importing the dataset"
   ]
  },
  {
   "cell_type": "code",
   "execution_count": 3,
   "metadata": {},
   "outputs": [],
   "source": [
    "dataset = pd.read_csv('nn.csv')"
   ]
  },
  {
   "cell_type": "code",
   "execution_count": 4,
   "metadata": {},
   "outputs": [
    {
     "data": {
      "text/html": [
       "<div>\n",
       "<style scoped>\n",
       "    .dataframe tbody tr th:only-of-type {\n",
       "        vertical-align: middle;\n",
       "    }\n",
       "\n",
       "    .dataframe tbody tr th {\n",
       "        vertical-align: top;\n",
       "    }\n",
       "\n",
       "    .dataframe thead th {\n",
       "        text-align: right;\n",
       "    }\n",
       "</style>\n",
       "<table border=\"1\" class=\"dataframe\">\n",
       "  <thead>\n",
       "    <tr style=\"text-align: right;\">\n",
       "      <th></th>\n",
       "      <th>x</th>\n",
       "      <th>y</th>\n",
       "      <th>z</th>\n",
       "      <th>type</th>\n",
       "    </tr>\n",
       "  </thead>\n",
       "  <tbody>\n",
       "    <tr>\n",
       "      <th>0</th>\n",
       "      <td>0.001601</td>\n",
       "      <td>0.002411</td>\n",
       "      <td>0.058439</td>\n",
       "      <td>1</td>\n",
       "    </tr>\n",
       "    <tr>\n",
       "      <th>1</th>\n",
       "      <td>0.001601</td>\n",
       "      <td>0.002411</td>\n",
       "      <td>0.052555</td>\n",
       "      <td>1</td>\n",
       "    </tr>\n",
       "    <tr>\n",
       "      <th>2</th>\n",
       "      <td>0.001601</td>\n",
       "      <td>0.002411</td>\n",
       "      <td>0.042748</td>\n",
       "      <td>1</td>\n",
       "    </tr>\n",
       "    <tr>\n",
       "      <th>3</th>\n",
       "      <td>0.003081</td>\n",
       "      <td>0.002123</td>\n",
       "      <td>0.102724</td>\n",
       "      <td>1</td>\n",
       "    </tr>\n",
       "    <tr>\n",
       "      <th>4</th>\n",
       "      <td>0.001601</td>\n",
       "      <td>0.002411</td>\n",
       "      <td>0.029016</td>\n",
       "      <td>1</td>\n",
       "    </tr>\n",
       "    <tr>\n",
       "      <th>...</th>\n",
       "      <td>...</td>\n",
       "      <td>...</td>\n",
       "      <td>...</td>\n",
       "      <td>...</td>\n",
       "    </tr>\n",
       "    <tr>\n",
       "      <th>18389</th>\n",
       "      <td>-0.084536</td>\n",
       "      <td>0.029911</td>\n",
       "      <td>-0.052045</td>\n",
       "      <td>2</td>\n",
       "    </tr>\n",
       "    <tr>\n",
       "      <th>18390</th>\n",
       "      <td>-0.070690</td>\n",
       "      <td>0.077925</td>\n",
       "      <td>-0.033627</td>\n",
       "      <td>2</td>\n",
       "    </tr>\n",
       "    <tr>\n",
       "      <th>18391</th>\n",
       "      <td>-0.054322</td>\n",
       "      <td>0.005287</td>\n",
       "      <td>-0.015010</td>\n",
       "      <td>2</td>\n",
       "    </tr>\n",
       "    <tr>\n",
       "      <th>18392</th>\n",
       "      <td>-0.009920</td>\n",
       "      <td>0.000539</td>\n",
       "      <td>-0.012780</td>\n",
       "      <td>2</td>\n",
       "    </tr>\n",
       "    <tr>\n",
       "      <th>18393</th>\n",
       "      <td>-0.000616</td>\n",
       "      <td>0.002563</td>\n",
       "      <td>0.056450</td>\n",
       "      <td>2</td>\n",
       "    </tr>\n",
       "  </tbody>\n",
       "</table>\n",
       "<p>18394 rows × 4 columns</p>\n",
       "</div>"
      ],
      "text/plain": [
       "              x         y         z  type\n",
       "0      0.001601  0.002411  0.058439     1\n",
       "1      0.001601  0.002411  0.052555     1\n",
       "2      0.001601  0.002411  0.042748     1\n",
       "3      0.003081  0.002123  0.102724     1\n",
       "4      0.001601  0.002411  0.029016     1\n",
       "...         ...       ...       ...   ...\n",
       "18389 -0.084536  0.029911 -0.052045     2\n",
       "18390 -0.070690  0.077925 -0.033627     2\n",
       "18391 -0.054322  0.005287 -0.015010     2\n",
       "18392 -0.009920  0.000539 -0.012780     2\n",
       "18393 -0.000616  0.002563  0.056450     2\n",
       "\n",
       "[18394 rows x 4 columns]"
      ]
     },
     "execution_count": 4,
     "metadata": {},
     "output_type": "execute_result"
    }
   ],
   "source": [
    "dataset"
   ]
  },
  {
   "cell_type": "code",
   "execution_count": 5,
   "metadata": {},
   "outputs": [],
   "source": [
    "X = dataset.iloc[:, [1,2]].values #independent variables\n",
    "y = dataset.iloc[:, -1].values # dependent variable"
   ]
  },
  {
   "cell_type": "code",
   "execution_count": 6,
   "metadata": {},
   "outputs": [
    {
     "data": {
      "text/plain": [
       "array([[ 0.00241087,  0.0584386 ],\n",
       "       [ 0.00241087,  0.0525551 ],\n",
       "       [ 0.00241087,  0.0427475 ],\n",
       "       ...,\n",
       "       [ 0.00528666, -0.0150102 ],\n",
       "       [ 0.0005391 , -0.0127803 ],\n",
       "       [ 0.00256338,  0.0564501 ]])"
      ]
     },
     "execution_count": 6,
     "metadata": {},
     "output_type": "execute_result"
    }
   ],
   "source": [
    "X"
   ]
  },
  {
   "cell_type": "code",
   "execution_count": 7,
   "metadata": {
    "colab": {
     "base_uri": "https://localhost:8080/",
     "height": 137
    },
    "colab_type": "code",
    "id": "VYP9cQTWbzuI",
    "outputId": "797e7a64-9bac-436a-8c9c-94437e5e7587"
   },
   "outputs": [
    {
     "data": {
      "text/plain": [
       "array([1, 1, 1, ..., 2, 2, 2])"
      ]
     },
     "execution_count": 7,
     "metadata": {},
     "output_type": "execute_result"
    }
   ],
   "source": [
    "y"
   ]
  },
  {
   "cell_type": "code",
   "execution_count": 8,
   "metadata": {
    "colab": {
     "base_uri": "https://localhost:8080/",
     "height": 34
    },
    "colab_type": "code",
    "id": "38vKGE6Nb2RR",
    "outputId": "a815e42a-e0dd-4cb5-ab97-b17ead98fbc3"
   },
   "outputs": [
    {
     "name": "stdout",
     "output_type": "stream",
     "text": [
      "[1 1 1 ... 2 2 2]\n"
     ]
    }
   ],
   "source": [
    "print(y)"
   ]
  },
  {
   "cell_type": "markdown",
   "metadata": {
    "colab_type": "text",
    "id": "N6bQ0UgSU-NJ"
   },
   "source": [
    "### Encoding categorical data"
   ]
  },
  {
   "cell_type": "markdown",
   "metadata": {
    "colab_type": "text",
    "id": "le5MJreAbW52"
   },
   "source": [
    "Label Encoding the \"Gender\" column"
   ]
  },
  {
   "cell_type": "code",
   "execution_count": 9,
   "metadata": {
    "colab": {},
    "colab_type": "code",
    "id": "PxVKWXxLbczC"
   },
   "outputs": [],
   "source": [
    "from sklearn.preprocessing import LabelEncoder\n",
    "le = LabelEncoder()\n",
    "#X[:, 2] = le.fit_transform(X[:, 2])"
   ]
  },
  {
   "cell_type": "code",
   "execution_count": 10,
   "metadata": {
    "colab": {
     "base_uri": "https://localhost:8080/",
     "height": 137
    },
    "colab_type": "code",
    "id": "-M1KboxFb6OO",
    "outputId": "e2b8c7e8-0cbc-4cdf-f4eb-7f0853a00b88"
   },
   "outputs": [],
   "source": [
    "#print(X)"
   ]
  },
  {
   "cell_type": "markdown",
   "metadata": {
    "colab_type": "text",
    "id": "CUxGZezpbMcb"
   },
   "source": [
    "One Hot Encoding the \"Geography\" column"
   ]
  },
  {
   "cell_type": "code",
   "execution_count": 11,
   "metadata": {
    "colab": {},
    "colab_type": "code",
    "id": "AMXC8-KMVirw"
   },
   "outputs": [],
   "source": [
    "#from sklearn.compose import ColumnTransformer\n",
    "#from sklearn.preprocessing import OneHotEncoder\n",
    "#ct = ColumnTransformer(transformers=[('encoder', OneHotEncoder(), [1])], remainder='passthrough')\n",
    "#X = np.array(ct.fit_transform(X))"
   ]
  },
  {
   "cell_type": "code",
   "execution_count": 12,
   "metadata": {
    "colab": {
     "base_uri": "https://localhost:8080/",
     "height": 137
    },
    "colab_type": "code",
    "id": "ZcxwEon-b8nV",
    "outputId": "23a98af4-5e33-4b26-c27b-f06e3c5d2baf"
   },
   "outputs": [
    {
     "name": "stdout",
     "output_type": "stream",
     "text": [
      "[[ 0.00241087  0.0584386 ]\n",
      " [ 0.00241087  0.0525551 ]\n",
      " [ 0.00241087  0.0427475 ]\n",
      " ...\n",
      " [ 0.00528666 -0.0150102 ]\n",
      " [ 0.0005391  -0.0127803 ]\n",
      " [ 0.00256338  0.0564501 ]]\n"
     ]
    }
   ],
   "source": [
    "print(X)"
   ]
  },
  {
   "cell_type": "markdown",
   "metadata": {
    "colab_type": "text",
    "id": "vHol938cW8zd"
   },
   "source": [
    "### Splitting the dataset into the Training set and Test set"
   ]
  },
  {
   "cell_type": "code",
   "execution_count": 13,
   "metadata": {
    "colab": {},
    "colab_type": "code",
    "id": "Z-TDt0Y_XEfc"
   },
   "outputs": [],
   "source": [
    "from sklearn.model_selection import train_test_split\n",
    "X_train, X_test, y_train, y_test = train_test_split(X, y, test_size = 0.2, random_state = 0)"
   ]
  },
  {
   "cell_type": "code",
   "execution_count": 14,
   "metadata": {},
   "outputs": [
    {
     "data": {
      "text/plain": [
       "array([[-0.0180711 , -0.0942569 ],\n",
       "       [-0.0134744 , -0.0521396 ],\n",
       "       [ 0.00177823,  0.021016  ],\n",
       "       ...,\n",
       "       [ 0.00099774, -0.018973  ],\n",
       "       [ 0.0272502 , -0.149982  ],\n",
       "       [-0.0303687 , -0.181232  ]])"
      ]
     },
     "execution_count": 14,
     "metadata": {},
     "output_type": "execute_result"
    }
   ],
   "source": [
    "X_train"
   ]
  },
  {
   "cell_type": "code",
   "execution_count": 15,
   "metadata": {},
   "outputs": [
    {
     "data": {
      "text/plain": [
       "array([[ 0.00212082,  0.0109746 ],\n",
       "       [ 0.00391942,  0.0597692 ],\n",
       "       [-0.187806  , -0.113553  ],\n",
       "       ...,\n",
       "       [-0.00170145, -0.00449328],\n",
       "       [-0.030503  , -0.151187  ],\n",
       "       [-0.0194231 , -0.102997  ]])"
      ]
     },
     "execution_count": 15,
     "metadata": {},
     "output_type": "execute_result"
    }
   ],
   "source": [
    "X_test"
   ]
  },
  {
   "cell_type": "markdown",
   "metadata": {
    "colab_type": "text",
    "id": "RE_FcHyfV3TQ"
   },
   "source": [
    "### Feature Scaling"
   ]
  },
  {
   "cell_type": "code",
   "execution_count": 16,
   "metadata": {
    "colab": {},
    "colab_type": "code",
    "id": "ViCrE00rV8Sk"
   },
   "outputs": [],
   "source": [
    "from sklearn.preprocessing import StandardScaler\n",
    "sc = StandardScaler()\n",
    "X_train = sc.fit_transform(X_train)\n",
    "X_test = sc.transform(X_test)"
   ]
  },
  {
   "cell_type": "markdown",
   "metadata": {
    "colab_type": "text",
    "id": "-zfEzkRVXIwF"
   },
   "source": [
    "## Part 2 - Building the ANN"
   ]
  },
  {
   "cell_type": "markdown",
   "metadata": {
    "colab_type": "text",
    "id": "KvdeScabXtlB"
   },
   "source": [
    "### Initializing the ANN"
   ]
  },
  {
   "cell_type": "code",
   "execution_count": 17,
   "metadata": {
    "colab": {},
    "colab_type": "code",
    "id": "3dtrScHxXQox"
   },
   "outputs": [],
   "source": [
    "ann = tf.keras.models.Sequential()"
   ]
  },
  {
   "cell_type": "markdown",
   "metadata": {
    "colab_type": "text",
    "id": "rP6urV6SX7kS"
   },
   "source": [
    "### Adding the input layer and the first hidden layer"
   ]
  },
  {
   "cell_type": "code",
   "execution_count": 18,
   "metadata": {
    "colab": {},
    "colab_type": "code",
    "id": "bppGycBXYCQr"
   },
   "outputs": [],
   "source": [
    "ann.add(tf.keras.layers.Dense(units=6, activation='relu'))"
   ]
  },
  {
   "cell_type": "markdown",
   "metadata": {
    "colab_type": "text",
    "id": "BELWAc_8YJze"
   },
   "source": [
    "### Adding the second hidden layer"
   ]
  },
  {
   "cell_type": "code",
   "execution_count": 19,
   "metadata": {
    "colab": {},
    "colab_type": "code",
    "id": "JneR0u0sYRTd"
   },
   "outputs": [],
   "source": [
    "ann.add(tf.keras.layers.Dense(units=6, activation='relu'))"
   ]
  },
  {
   "cell_type": "markdown",
   "metadata": {
    "colab_type": "text",
    "id": "OyNEe6RXYcU4"
   },
   "source": [
    "### Adding the output layer"
   ]
  },
  {
   "cell_type": "code",
   "execution_count": 20,
   "metadata": {
    "colab": {},
    "colab_type": "code",
    "id": "Cn3x41RBYfvY"
   },
   "outputs": [],
   "source": [
    "ann.add(tf.keras.layers.Dense(units=1, activation='sigmoid'))"
   ]
  },
  {
   "cell_type": "markdown",
   "metadata": {
    "colab_type": "text",
    "id": "JT4u2S1_Y4WG"
   },
   "source": [
    "## Part 3 - Training the ANN"
   ]
  },
  {
   "cell_type": "markdown",
   "metadata": {
    "colab_type": "text",
    "id": "8GWlJChhY_ZI"
   },
   "source": [
    "### Compiling the ANN"
   ]
  },
  {
   "cell_type": "code",
   "execution_count": 21,
   "metadata": {
    "colab": {},
    "colab_type": "code",
    "id": "fG3RrwDXZEaS"
   },
   "outputs": [],
   "source": [
    "ann.compile(optimizer = 'adam', loss = 'binary_crossentropy', metrics = ['accuracy'])"
   ]
  },
  {
   "cell_type": "markdown",
   "metadata": {
    "colab_type": "text",
    "id": "0QR_G5u7ZLSM"
   },
   "source": [
    "### Training the ANN on the Training set"
   ]
  },
  {
   "cell_type": "code",
   "execution_count": 22,
   "metadata": {
    "colab": {
     "base_uri": "https://localhost:8080/",
     "height": 1000
    },
    "colab_type": "code",
    "id": "nHZ-LKv_ZRb3",
    "outputId": "718cc4b0-b5aa-40f0-9b20-d3d31730a531"
   },
   "outputs": [
    {
     "name": "stdout",
     "output_type": "stream",
     "text": [
      "Epoch 1/100\n",
      "460/460 [==============================] - 0s 678us/step - loss: -2.5105 - accuracy: 0.4843\n",
      "Epoch 2/100\n",
      "460/460 [==============================] - 0s 687us/step - loss: -34.1993 - accuracy: 0.5017\n",
      "Epoch 3/100\n",
      "460/460 [==============================] - 0s 673us/step - loss: -140.8854 - accuracy: 0.5017\n",
      "Epoch 4/100\n",
      "460/460 [==============================] - 0s 651us/step - loss: -356.2418 - accuracy: 0.5017\n",
      "Epoch 5/100\n",
      "460/460 [==============================] - 0s 641us/step - loss: -700.5090 - accuracy: 0.5017\n",
      "Epoch 6/100\n",
      "460/460 [==============================] - 0s 672us/step - loss: -1185.2678 - accuracy: 0.5017\n",
      "Epoch 7/100\n",
      "460/460 [==============================] - 0s 680us/step - loss: -1821.7365 - accuracy: 0.5017\n",
      "Epoch 8/100\n",
      "460/460 [==============================] - 0s 654us/step - loss: -2614.5750 - accuracy: 0.5017\n",
      "Epoch 9/100\n",
      "460/460 [==============================] - 0s 677us/step - loss: -3573.0208 - accuracy: 0.5017\n",
      "Epoch 10/100\n",
      "460/460 [==============================] - 0s 678us/step - loss: -4708.3760 - accuracy: 0.5017\n",
      "Epoch 11/100\n",
      "460/460 [==============================] - 0s 662us/step - loss: -6024.9761 - accuracy: 0.5017\n",
      "Epoch 12/100\n",
      "460/460 [==============================] - 0s 641us/step - loss: -7528.7642 - accuracy: 0.5017\n",
      "Epoch 13/100\n",
      "460/460 [==============================] - 0s 661us/step - loss: -9233.4639 - accuracy: 0.5017\n",
      "Epoch 14/100\n",
      "460/460 [==============================] - 0s 657us/step - loss: -11144.7012 - accuracy: 0.5017\n",
      "Epoch 15/100\n",
      "460/460 [==============================] - 0s 667us/step - loss: -13269.4434 - accuracy: 0.5017\n",
      "Epoch 16/100\n",
      "460/460 [==============================] - 0s 656us/step - loss: -15616.1660 - accuracy: 0.5017\n",
      "Epoch 17/100\n",
      "460/460 [==============================] - 0s 652us/step - loss: -18187.2480 - accuracy: 0.5017\n",
      "Epoch 18/100\n",
      "460/460 [==============================] - 0s 651us/step - loss: -20999.4219 - accuracy: 0.5017\n",
      "Epoch 19/100\n",
      "460/460 [==============================] - 0s 640us/step - loss: -24068.9102 - accuracy: 0.5017\n",
      "Epoch 20/100\n",
      "460/460 [==============================] - 0s 653us/step - loss: -27390.8535 - accuracy: 0.5017\n",
      "Epoch 21/100\n",
      "460/460 [==============================] - 0s 651us/step - loss: -30971.5918 - accuracy: 0.5017\n",
      "Epoch 22/100\n",
      "460/460 [==============================] - 0s 646us/step - loss: -34832.0664 - accuracy: 0.5017\n",
      "Epoch 23/100\n",
      "460/460 [==============================] - 0s 647us/step - loss: -38975.6562 - accuracy: 0.5017\n",
      "Epoch 24/100\n",
      "460/460 [==============================] - 0s 645us/step - loss: -43403.2734 - accuracy: 0.5017\n",
      "Epoch 25/100\n",
      "460/460 [==============================] - 0s 649us/step - loss: -48121.4492 - accuracy: 0.5017\n",
      "Epoch 26/100\n",
      "460/460 [==============================] - 0s 652us/step - loss: -53144.0508 - accuracy: 0.5017\n",
      "Epoch 27/100\n",
      "460/460 [==============================] - 0s 637us/step - loss: -58487.9883 - accuracy: 0.5017\n",
      "Epoch 28/100\n",
      "460/460 [==============================] - 0s 652us/step - loss: -64164.2148 - accuracy: 0.5017\n",
      "Epoch 29/100\n",
      "460/460 [==============================] - 0s 658us/step - loss: -70179.2500 - accuracy: 0.5017\n",
      "Epoch 30/100\n",
      "460/460 [==============================] - 0s 645us/step - loss: -76543.3828 - accuracy: 0.5017\n",
      "Epoch 31/100\n",
      "460/460 [==============================] - 0s 647us/step - loss: -83263.4297 - accuracy: 0.5017\n",
      "Epoch 32/100\n",
      "460/460 [==============================] - 0s 650us/step - loss: -90356.2812 - accuracy: 0.5017\n",
      "Epoch 33/100\n",
      "460/460 [==============================] - 0s 647us/step - loss: -97804.0703 - accuracy: 0.5017\n",
      "Epoch 34/100\n",
      "460/460 [==============================] - 0s 643us/step - loss: -105608.4922 - accuracy: 0.5017\n",
      "Epoch 35/100\n",
      "460/460 [==============================] - 0s 643us/step - loss: -113808.0078 - accuracy: 0.5017\n",
      "Epoch 36/100\n",
      "460/460 [==============================] - 0s 658us/step - loss: -122427.4609 - accuracy: 0.5017\n",
      "Epoch 37/100\n",
      "460/460 [==============================] - 0s 643us/step - loss: -131445.9062 - accuracy: 0.5017\n",
      "Epoch 38/100\n",
      "460/460 [==============================] - 0s 652us/step - loss: -140888.9375 - accuracy: 0.5017\n",
      "Epoch 39/100\n",
      "460/460 [==============================] - 0s 648us/step - loss: -150750.0938 - accuracy: 0.5017\n",
      "Epoch 40/100\n",
      "460/460 [==============================] - 0s 642us/step - loss: -161042.5625 - accuracy: 0.5017\n",
      "Epoch 41/100\n",
      "460/460 [==============================] - 0s 650us/step - loss: -171766.9844 - accuracy: 0.5017\n",
      "Epoch 42/100\n",
      "460/460 [==============================] - 0s 651us/step - loss: -182932.9531 - accuracy: 0.5017\n",
      "Epoch 43/100\n",
      "460/460 [==============================] - 0s 634us/step - loss: -194559.8438 - accuracy: 0.5017\n",
      "Epoch 44/100\n",
      "460/460 [==============================] - 0s 649us/step - loss: -206630.5312 - accuracy: 0.5017\n",
      "Epoch 45/100\n",
      "460/460 [==============================] - 0s 682us/step - loss: -219167.2031 - accuracy: 0.5017\n",
      "Epoch 46/100\n",
      "460/460 [==============================] - 0s 744us/step - loss: -232202.2969 - accuracy: 0.5017\n",
      "Epoch 47/100\n",
      "460/460 [==============================] - 0s 817us/step - loss: -245722.1562 - accuracy: 0.5017\n",
      "Epoch 48/100\n",
      "460/460 [==============================] - 0s 835us/step - loss: -259739.5156 - accuracy: 0.5017\n",
      "Epoch 49/100\n",
      "460/460 [==============================] - 0s 789us/step - loss: -274276.2812 - accuracy: 0.5017\n",
      "Epoch 50/100\n",
      "460/460 [==============================] - 0s 825us/step - loss: -289331.7188 - accuracy: 0.5017\n",
      "Epoch 51/100\n",
      "460/460 [==============================] - 0s 945us/step - loss: -304921.2500 - accuracy: 0.5017\n",
      "Epoch 52/100\n",
      "460/460 [==============================] - 0s 847us/step - loss: -320994.9062 - accuracy: 0.5017\n",
      "Epoch 53/100\n",
      "460/460 [==============================] - 0s 827us/step - loss: -337607.0000 - accuracy: 0.5017\n",
      "Epoch 54/100\n",
      "460/460 [==============================] - 0s 833us/step - loss: -354760.0625 - accuracy: 0.5017\n",
      "Epoch 55/100\n",
      "460/460 [==============================] - 0s 834us/step - loss: -372449.2188 - accuracy: 0.5017\n",
      "Epoch 56/100\n",
      "460/460 [==============================] - 0s 828us/step - loss: -390688.6875 - accuracy: 0.5017\n",
      "Epoch 57/100\n",
      "460/460 [==============================] - 0s 799us/step - loss: -409525.0625 - accuracy: 0.5017\n",
      "Epoch 58/100\n",
      "460/460 [==============================] - 0s 811us/step - loss: -428947.9375 - accuracy: 0.5017\n",
      "Epoch 59/100\n",
      "460/460 [==============================] - 0s 813us/step - loss: -448930.6250 - accuracy: 0.5017\n",
      "Epoch 60/100\n",
      "460/460 [==============================] - 0s 815us/step - loss: -469518.7500 - accuracy: 0.5017\n",
      "Epoch 61/100\n",
      "460/460 [==============================] - 0s 810us/step - loss: -490718.7500 - accuracy: 0.5017\n",
      "Epoch 62/100\n",
      "460/460 [==============================] - 0s 868us/step - loss: -512510.9688 - accuracy: 0.5017\n",
      "Epoch 63/100\n",
      "460/460 [==============================] - 0s 858us/step - loss: -534944.4375 - accuracy: 0.5017\n",
      "Epoch 64/100\n",
      "460/460 [==============================] - 0s 838us/step - loss: -557993.8750 - accuracy: 0.5017\n",
      "Epoch 65/100\n",
      "460/460 [==============================] - 0s 833us/step - loss: -581664.0000 - accuracy: 0.5017\n",
      "Epoch 66/100\n",
      "460/460 [==============================] - 0s 841us/step - loss: -605972.1875 - accuracy: 0.5017\n",
      "Epoch 67/100\n",
      "460/460 [==============================] - 0s 835us/step - loss: -630920.6875 - accuracy: 0.5017\n",
      "Epoch 68/100\n",
      "460/460 [==============================] - 0s 847us/step - loss: -656547.1250 - accuracy: 0.5017\n",
      "Epoch 69/100\n",
      "460/460 [==============================] - 0s 827us/step - loss: -682842.8125 - accuracy: 0.5017\n",
      "Epoch 70/100\n",
      "460/460 [==============================] - 0s 799us/step - loss: -709799.0000 - accuracy: 0.5017\n",
      "Epoch 71/100\n",
      "460/460 [==============================] - 0s 840us/step - loss: -737442.0000 - accuracy: 0.5017\n",
      "Epoch 72/100\n",
      "460/460 [==============================] - 0s 818us/step - loss: -765792.0625 - accuracy: 0.5017\n",
      "Epoch 73/100\n",
      "460/460 [==============================] - 0s 831us/step - loss: -794867.5625 - accuracy: 0.5017\n",
      "Epoch 74/100\n",
      "460/460 [==============================] - 0s 847us/step - loss: -824627.8750 - accuracy: 0.5017\n",
      "Epoch 75/100\n",
      "460/460 [==============================] - 0s 813us/step - loss: -855071.1250 - accuracy: 0.5017\n",
      "Epoch 76/100\n"
     ]
    },
    {
     "name": "stdout",
     "output_type": "stream",
     "text": [
      "460/460 [==============================] - 0s 827us/step - loss: -886239.8125 - accuracy: 0.5017\n",
      "Epoch 77/100\n",
      "460/460 [==============================] - 0s 781us/step - loss: -918124.7500 - accuracy: 0.5017\n",
      "Epoch 78/100\n",
      "460/460 [==============================] - 0s 766us/step - loss: -950764.9375 - accuracy: 0.5017\n",
      "Epoch 79/100\n",
      "460/460 [==============================] - 0s 787us/step - loss: -984182.6250 - accuracy: 0.5017\n",
      "Epoch 80/100\n",
      "460/460 [==============================] - 0s 746us/step - loss: -1018387.2500 - accuracy: 0.5017\n",
      "Epoch 81/100\n",
      "460/460 [==============================] - 0s 747us/step - loss: -1053294.5000 - accuracy: 0.5017\n",
      "Epoch 82/100\n",
      "460/460 [==============================] - 0s 740us/step - loss: -1088957.8750 - accuracy: 0.5017\n",
      "Epoch 83/100\n",
      "460/460 [==============================] - 0s 739us/step - loss: -1125398.5000 - accuracy: 0.5017\n",
      "Epoch 84/100\n",
      "460/460 [==============================] - 0s 738us/step - loss: -1162695.3750 - accuracy: 0.5017\n",
      "Epoch 85/100\n",
      "460/460 [==============================] - 0s 727us/step - loss: -1200793.5000 - accuracy: 0.5017\n",
      "Epoch 86/100\n",
      "460/460 [==============================] - 0s 737us/step - loss: -1239646.3750 - accuracy: 0.5017\n",
      "Epoch 87/100\n",
      "460/460 [==============================] - 0s 718us/step - loss: -1279282.1250 - accuracy: 0.5017\n",
      "Epoch 88/100\n",
      "460/460 [==============================] - 0s 746us/step - loss: -1319722.2500 - accuracy: 0.5017\n",
      "Epoch 89/100\n",
      "460/460 [==============================] - 0s 726us/step - loss: -1361014.0000 - accuracy: 0.5017\n",
      "Epoch 90/100\n",
      "460/460 [==============================] - 0s 733us/step - loss: -1403086.5000 - accuracy: 0.5017\n",
      "Epoch 91/100\n",
      "460/460 [==============================] - 0s 732us/step - loss: -1446018.1250 - accuracy: 0.5017\n",
      "Epoch 92/100\n",
      "460/460 [==============================] - 0s 727us/step - loss: -1489754.8750 - accuracy: 0.5017\n",
      "Epoch 93/100\n",
      "460/460 [==============================] - 0s 759us/step - loss: -1534349.8750 - accuracy: 0.5017\n",
      "Epoch 94/100\n",
      "460/460 [==============================] - 0s 739us/step - loss: -1579764.7500 - accuracy: 0.5017\n",
      "Epoch 95/100\n",
      "460/460 [==============================] - 0s 749us/step - loss: -1626152.1250 - accuracy: 0.5017\n",
      "Epoch 96/100\n",
      "460/460 [==============================] - 0s 743us/step - loss: -1673443.5000 - accuracy: 0.5017\n",
      "Epoch 97/100\n",
      "460/460 [==============================] - 0s 737us/step - loss: -1721648.0000 - accuracy: 0.5017\n",
      "Epoch 98/100\n",
      "460/460 [==============================] - 0s 739us/step - loss: -1770723.3750 - accuracy: 0.5017\n",
      "Epoch 99/100\n",
      "460/460 [==============================] - 0s 741us/step - loss: -1820755.6250 - accuracy: 0.5017\n",
      "Epoch 100/100\n",
      "460/460 [==============================] - 0s 732us/step - loss: -1871749.0000 - accuracy: 0.5017\n"
     ]
    },
    {
     "data": {
      "text/plain": [
       "<tensorflow.python.keras.callbacks.History at 0x7f0efc11abb0>"
      ]
     },
     "execution_count": 22,
     "metadata": {},
     "output_type": "execute_result"
    }
   ],
   "source": [
    "ann.fit(X_train, y_train, batch_size = 32, epochs = 100)"
   ]
  },
  {
   "cell_type": "markdown",
   "metadata": {
    "colab_type": "text",
    "id": "ZhU1LTgPg-kH"
   },
   "source": [
    "**Solution**"
   ]
  },
  {
   "cell_type": "code",
   "execution_count": 23,
   "metadata": {
    "colab": {
     "base_uri": "https://localhost:8080/",
     "height": 34
    },
    "colab_type": "code",
    "id": "2d8IoCCkeWGL",
    "outputId": "957f3970-e197-4c3b-a150-7f69dc567f5d"
   },
   "outputs": [
    {
     "name": "stdout",
     "output_type": "stream",
     "text": [
      "[[1.]]\n"
     ]
    }
   ],
   "source": [
    "print(ann.predict(sc.transform([[-0.00744156,-0.0472565]])))"
   ]
  },
  {
   "cell_type": "markdown",
   "metadata": {
    "colab_type": "text",
    "id": "u7yx47jPZt11"
   },
   "source": [
    "### Predicting the Test set results"
   ]
  },
  {
   "cell_type": "code",
   "execution_count": 24,
   "metadata": {
    "colab": {
     "base_uri": "https://localhost:8080/",
     "height": 137
    },
    "colab_type": "code",
    "id": "nIyEeQdRZwgs",
    "outputId": "82330ba8-9bdc-4fd1-d3cf-b6d78ee7c2a3"
   },
   "outputs": [],
   "source": [
    "y_pred = ann.predict(X_test)\n",
    "y_pred = (y_pred > 0.5)"
   ]
  },
  {
   "cell_type": "code",
   "execution_count": 25,
   "metadata": {},
   "outputs": [
    {
     "data": {
      "text/plain": [
       "array([[ True],\n",
       "       [ True],\n",
       "       [ True],\n",
       "       ...,\n",
       "       [ True],\n",
       "       [ True],\n",
       "       [ True]])"
      ]
     },
     "execution_count": 25,
     "metadata": {},
     "output_type": "execute_result"
    }
   ],
   "source": [
    "y_pred"
   ]
  },
  {
   "cell_type": "code",
   "execution_count": 26,
   "metadata": {},
   "outputs": [
    {
     "name": "stdout",
     "output_type": "stream",
     "text": [
      "[[1 1]\n",
      " [1 1]\n",
      " [1 2]\n",
      " ...\n",
      " [1 1]\n",
      " [1 2]\n",
      " [1 2]]\n"
     ]
    }
   ],
   "source": [
    "print(np.concatenate((y_pred.reshape(len(y_pred),1), y_test.reshape(len(y_test),1)),1))"
   ]
  },
  {
   "cell_type": "markdown",
   "metadata": {
    "colab_type": "text",
    "id": "o0oyfLWoaEGw"
   },
   "source": [
    "### Making the Confusion Matrix"
   ]
  },
  {
   "cell_type": "code",
   "execution_count": 186,
   "metadata": {
    "colab": {
     "base_uri": "https://localhost:8080/",
     "height": 68
    },
    "colab_type": "code",
    "id": "ci6K_r6LaF6P",
    "outputId": "4d854e9e-22d5-432f-f6e5-a102fe3ae0bd"
   },
   "outputs": [
    {
     "name": "stdout",
     "output_type": "stream",
     "text": [
      "[[1827    0]\n",
      " [1852    0]]\n"
     ]
    },
    {
     "data": {
      "text/plain": [
       "0.4966023375917369"
      ]
     },
     "execution_count": 186,
     "metadata": {},
     "output_type": "execute_result"
    }
   ],
   "source": [
    "from sklearn.metrics import confusion_matrix, accuracy_score\n",
    "cm = confusion_matrix(y_test, y_pred)\n",
    "print(cm)\n",
    "accuracy_score(y_test, y_pred)"
   ]
  },
  {
   "cell_type": "code",
   "execution_count": null,
   "metadata": {},
   "outputs": [],
   "source": []
  },
  {
   "cell_type": "code",
   "execution_count": null,
   "metadata": {},
   "outputs": [],
   "source": []
  },
  {
   "cell_type": "code",
   "execution_count": null,
   "metadata": {},
   "outputs": [],
   "source": []
  },
  {
   "cell_type": "code",
   "execution_count": null,
   "metadata": {},
   "outputs": [],
   "source": []
  },
  {
   "cell_type": "code",
   "execution_count": null,
   "metadata": {},
   "outputs": [],
   "source": [
    "\n",
    "\n",
    "\n",
    "\n",
    "\n",
    "\n",
    "\n",
    "\n"
   ]
  }
 ],
 "metadata": {
  "colab": {
   "collapsed_sections": [],
   "name": "artificial_neural_network.ipynb",
   "provenance": [],
   "toc_visible": true
  },
  "kernelspec": {
   "display_name": "Python 3",
   "language": "python",
   "name": "python3"
  },
  "language_info": {
   "codemirror_mode": {
    "name": "ipython",
    "version": 3
   },
   "file_extension": ".py",
   "mimetype": "text/x-python",
   "name": "python",
   "nbconvert_exporter": "python",
   "pygments_lexer": "ipython3",
   "version": "3.8.5"
  }
 },
 "nbformat": 4,
 "nbformat_minor": 1
}
